{
 "cells": [
  {
   "cell_type": "markdown",
   "metadata": {},
   "source": [
    "# Zathura\n",
    "\n",
    "I was recently approached by a friend with a question about solving an interesting combinatorial mathematical puzzle. Given a series of squares on a board of dimensions `W x H`, how many possible (non-duplicate) quadrilaterals may be formed by selecting four vertices? Here are the rules (I cannot depict the actual plays in markdown, but I can simulate them with tables):\n",
    "\n",
    "  - Four points must be chosen, i.e...\n",
    "  \n",
    "| col 1 | col 2 | col 3 | col 4 |\n",
    "|-------|-------|-------|-------|\n",
    "|       |       |       |   X   |\n",
    "|       |   X   |       |       |\n",
    "|       |   X   |       |   X   |\n",
    "  \n",
    "  - They must form a quadrilateral (i.e., not a triangle&mdash;so the previous example is valid, but the following is not):\n",
    "  \n",
    "| col 1 | col 2 | col 3 | col 4 |\n",
    "|-------|-------|-------|-------|\n",
    "|       |       |       |   X   |\n",
    "|       |       |   X   |       |\n",
    "|       |   X   |       |   X   |\n",
    "\n",
    "Quadrilaterals are extremely diverse in nature, and can be difficult to detect. For instance, all of the following are valid (of course, the quadrilaterals with crossing lines can and will be represented as squares for this game&mdash;there are no rules about facets):\n",
    "\n",
    "<img src=\"img/quad.png\" alt=\"Quadrilaterals\"/>\n",
    "\n",
    "__Theorem: *In order to determine whether or not a play is a quadrilateral, we must only validate that 3 or more points do not fall on a line segment (lest the play be deemed a triangle or line, respectively)*__"
   ]
  },
  {
   "cell_type": "code",
   "execution_count": 9,
   "metadata": {
    "collapsed": false
   },
   "outputs": [
    {
     "name": "stdout",
     "output_type": "stream",
     "text": [
      "Numpy version: 1.12.1\n"
     ]
    }
   ],
   "source": [
    "import numpy as np\n",
    "\n",
    "# for continuity's sake\n",
    "print(\"Numpy version: %s\" % np.__version__)"
   ]
  },
  {
   "cell_type": "markdown",
   "metadata": {},
   "source": [
    "This is a combinatorial problem with some strategic filtering involved in the end. There will be two ways to solve this:\n",
    "\n",
    "  1. __Brute force__: design every possible play, filter duplicates and illegal moves\n",
    "  2. __Algorithmic__: design an equation that computes the number of legal plays given the input dimensions.\n",
    "  \n",
    "## Brute Force approach\n",
    "  \n",
    "First, we'll solve the brute force method to have a baseline against which to compare the time and outputs of the equation. Both ways, we'll need several utility functions:"
   ]
  },
  {
   "cell_type": "code",
   "execution_count": 10,
   "metadata": {
    "collapsed": false
   },
   "outputs": [
    {
     "name": "stdout",
     "output_type": "stream",
     "text": [
      "Possible (non-filtered) quadrilaterals: 20,260,275\n"
     ]
    }
   ],
   "source": [
    "w = 15\n",
    "h = 10\n",
    "\n",
    "# since this is a combinatorial problem, we need to know how many ways there are to select\n",
    "# W * H vertices. We'll use the following function:\n",
    "def n_choose_k(n, k):\n",
    "    return np.math.factorial(n) / (np.math.factorial(k) * np.math.factorial(n - k))\n",
    "\n",
    "# This is the number of possible selections:\n",
    "print(\"Possible (non-filtered) quadrilaterals: {:,}\".format(n_choose_k(15 * 10, 4)))"
   ]
  },
  {
   "cell_type": "markdown",
   "metadata": {},
   "source": [
    "That's a *ton* of possibilities and, frankly, impossible to validate. So for the brute force method, let's solve a `3x3` square (so `2x2` squares with `3x3` vertices) and then extrapolate to our `15x10`. First let's define a few more utility functions and classes... the `Play` class accepts four geometric points and provides utilites for determining whether or not the play is valid. The algorithm we'll use to determine validity is relatively simple:\n",
    "\n",
    "    For each triplet, T, within the set of 4:\n",
    "        Determine that T does not form a line segment\n",
    "                \n",
    "This gets very simple if you think of the triplet as two vectors (jointly unified with the middle point) and compute the cosine similarity between the two vectors:\n",
    "\n",
    "$$cossim(\\mathrm{a}, \\mathrm{b}) = cos(\\theta_{\\mathrm{a} \\mathrm{b}}) = \\frac{\\mathrm{a} \\cdot \\mathrm{b}}{\\left \\| \\mathrm{a} \\right \\| \\left \\| \\mathrm{b} \\right \\|}$$\n",
    "\n",
    "Cosine similarity measures the cosine of angle ${\\theta}$ between two vectors (i.e., the magnitude). The ${cossim}$ will be bound in ${[-1, 1]}$; if ${cossim}$ is equal to 0, it means the vectors are orthogonal (i.e., 90 degrees and do not form a line). If the ${cossim}$ is 1, it means the vectors are the same, and if it's -1, it means they are perfectly opposite, i.e., they are in a perfect line&mdash;*this is our answer!* If any of the triplets' ${cossim}$ is equal to -1, it means there is a line segment contained in our play, and it is illegal."
   ]
  },
  {
   "cell_type": "code",
   "execution_count": 62,
   "metadata": {
    "collapsed": true
   },
   "outputs": [],
   "source": [
    "w = 3\n",
    "h = 3"
   ]
  },
  {
   "cell_type": "code",
   "execution_count": 263,
   "metadata": {
    "collapsed": false
   },
   "outputs": [],
   "source": [
    "from itertools import combinations\n",
    "from matplotlib import pyplot as plt\n",
    "%matplotlib inline\n",
    "\n",
    "def _almost_equals(a, b, eps=1e-3):\n",
    "    return np.abs(a - b) <= eps\n",
    "\n",
    "def _cos_sim3(x, y, z):\n",
    "    a = np.asarray([x[0] - y[0], x[1] - y[1]])\n",
    "    b = np.asarray([x[0] - z[0], x[1] - z[1]])\n",
    "\n",
    "    # compute the cosine similarity\n",
    "    return a.dot(b) / (np.sqrt(a.dot(a)) * np.sqrt(b.dot(b)))\n",
    "\n",
    "def _forms_line_segment(x, y, z):\n",
    "    cs = _cos_sim3(x, y, z)\n",
    "\n",
    "    # abs is unnecessary, as we know the points will be unique (and not the same vector)\n",
    "    # but still good just in case someone misuses this class...\n",
    "    return _almost_equals(np.abs(cs), 1.0)\n",
    "\n",
    "class Play(object):\n",
    "    \"\"\"The `Play` class accepts four tuples, which\n",
    "    represent cartesian points, and provides utility\n",
    "    methods that determine the play's validity.\n",
    "    \"\"\"\n",
    "    def __init__(self, a, b, c, d):\n",
    "        self.a = a\n",
    "        self.b = b\n",
    "        self.c = c\n",
    "        self.d = d\n",
    "        \n",
    "    def __eq__(self, other):\n",
    "        return hash(self) == hash(other)\n",
    "        \n",
    "    def __hash__(self):\n",
    "        # this is a hack that exploits the commutative nature of XOR. Identical\n",
    "        # (but re-ordered) points will share the same hashcode and can be computed\n",
    "        # with relative ease/efficiency. We can also cache it to make it faster.\n",
    "        if hasattr(self, 'hash_'):\n",
    "            return self.hash_\n",
    "        self.hash_ = hash(self.a) ^ hash(self.b) ^ hash(self.c) ^ hash(self.d)\n",
    "        return self.hash_\n",
    "    \n",
    "    def is_valid(self):\n",
    "        # for each set of 3 vertices within the set of 4 (4 possibilities - n_choose_k(4, 3))\n",
    "        # determine that no triplets form a line segment.\n",
    "        for x, y, z in combinations([self.a, self.b, self.c, self.d], 3):\n",
    "            if _forms_line_segment(x, y, z):\n",
    "                return False\n",
    "            \n",
    "        # if we get here, we know it's valid\n",
    "        return True\n",
    "    \n",
    "    def show(self):\n",
    "        pts = [self.a, self.b, self.c, self.d]\n",
    "        x, y = zip(*pts)\n",
    "        scatter = plt.scatter(x=x, y=y)\n",
    "        plt.show()"
   ]
  },
  {
   "cell_type": "markdown",
   "metadata": {},
   "source": [
    "Let's test out the above class for some corner cases:"
   ]
  },
  {
   "cell_type": "code",
   "execution_count": 264,
   "metadata": {
    "collapsed": false
   },
   "outputs": [
    {
     "data": {
      "image/png": "[encoded data removed]",
      "text/plain": [
       "<matplotlib.figure.Figure at 0x116c4d510>"
      ]
     },
     "metadata": {},
     "output_type": "display_data"
    },
    {
     "name": "stdout",
     "output_type": "stream",
     "text": [
      "Is play valid: False\n"
     ]
    }
   ],
   "source": [
    "# Let's try a line segment\n",
    "play = Play((0,0), (1,1), (2,2), (3,3))\n",
    "play.show()\n",
    "\n",
    "# this should NOT be a valid play:\n",
    "print(\"Is play valid: %r\" % play.is_valid())"
   ]
  },
  {
   "cell_type": "code",
   "execution_count": 265,
   "metadata": {
    "collapsed": false
   },
   "outputs": [
    {
     "data": {
      "image/png": "[encoded data removed]",
      "text/plain": [
       "<matplotlib.figure.Figure at 0x1169ce890>"
      ]
     },
     "metadata": {},
     "output_type": "display_data"
    },
    {
     "name": "stdout",
     "output_type": "stream",
     "text": [
      "Is play valid: False\n"
     ]
    }
   ],
   "source": [
    "# Let's try a triangle\n",
    "play = Play((0,0), (1,1), (2,2), (2,0))\n",
    "play.show()\n",
    "\n",
    "# this should NOT be a valid play:\n",
    "print(\"Is play valid: %r\" % play.is_valid())"
   ]
  },
  {
   "cell_type": "code",
   "execution_count": 266,
   "metadata": {
    "collapsed": false
   },
   "outputs": [
    {
     "data": {
      "image/png": "[encoded data removed]",
      "text/plain": [
       "<matplotlib.figure.Figure at 0x115595a10>"
      ]
     },
     "metadata": {},
     "output_type": "display_data"
    },
    {
     "name": "stdout",
     "output_type": "stream",
     "text": [
      "Is play valid: True\n"
     ]
    }
   ],
   "source": [
    "# Let's show a valid play, now.\n",
    "play = Play((0,0), (1,2), (2,2), (2,0))\n",
    "play.show()\n",
    "\n",
    "# this SHOULD be a valid play:\n",
    "print(\"Is play valid: %r\" % play.is_valid())"
   ]
  },
  {
   "cell_type": "code",
   "execution_count": 177,
   "metadata": {
    "collapsed": false
   },
   "outputs": [],
   "source": [
    "# Let's show that the same play in a different order is the same hash code...\n",
    "assert Play((0,0), (1,1), (2,2), (2,0)) == Play((1,1), (2,2), (2,0), (0,0))\n",
    "\n",
    "# Let's show that different plays have a different hash code...\n",
    "assert Play((0,0), (1,1), (2,2), (2,0)) != Play((1,1), (2,2), (2,0), (1,2))\n",
    "\n",
    "# show that the same plays (with differing orders) will only occupy one slot in a hash table:\n",
    "assert len(set([Play((0,0), (1,1), (2,2), (2,0)), Play((1,1), (2,2), (2,0), (0,0))])) == 1"
   ]
  },
  {
   "cell_type": "markdown",
   "metadata": {},
   "source": [
    "### Building all possible plays\n",
    "\n",
    "Now that we have a robust class that can estimate the validity of a play and whether it's equal to another, we need to build all possible plays and store them in a set (the hash code hack will ensure only non-duplicates will be stored)."
   ]
  },
  {
   "cell_type": "code",
   "execution_count": 274,
   "metadata": {
    "collapsed": false
   },
   "outputs": [
    {
     "name": "stdout",
     "output_type": "stream",
     "text": [
      "Number of possible plays for 3 x 3: 126\n"
     ]
    }
   ],
   "source": [
    "# first, generate a list of all possible coordinates\n",
    "coordinates = [(i, j) for i in range(h) for j in range(w)]\n",
    "\n",
    "# now generate combinations of 4...\n",
    "all_possible_plays = [Play(*args) for args in combinations(coordinates, 4)]\n",
    "\n",
    "# See how many there are...\n",
    "nc4 = n_choose_k(len(coordinates), 4)\n",
    "assert len(all_possible_plays) == nc4\n",
    "print((\"Number of possible plays for %i x %i: {:,}\" % (h, w)).format(nc4))"
   ]
  },
  {
   "cell_type": "markdown",
   "metadata": {},
   "source": [
    "### Filtering out illegal plays and duplicates\n",
    "\n",
    "Now that we have the list of all possible plays, we can easily filter out duplicates and illegal (i.e., triangle or line-segment) plays:"
   ]
  },
  {
   "cell_type": "code",
   "execution_count": 276,
   "metadata": {
    "collapsed": false
   },
   "outputs": [
    {
     "name": "stdout",
     "output_type": "stream",
     "text": [
      "Number of legal plays: 78\n"
     ]
    }
   ],
   "source": [
    "n_legal = len([play for play in all_possible_plays if play.is_valid()])\n",
    "print(\"Number of legal plays: {:,}\".format(n_legal))"
   ]
  },
  {
   "cell_type": "markdown",
   "metadata": {},
   "source": [
    "## Modularizing the code\n",
    "\n",
    "Let's make the code much more modular/functional for testing different dimensions:"
   ]
  },
  {
   "cell_type": "code",
   "execution_count": 278,
   "metadata": {
    "collapsed": false
   },
   "outputs": [
    {
     "name": "stdout",
     "output_type": "stream",
     "text": [
      "Number of possible plays for 3 x 3: 78\n",
      "Completed in 0.007 seconds\n",
      "\n",
      "Number of possible plays for 5 x 5: 9,498\n",
      "Completed in 0.617 seconds\n",
      "\n",
      "Number of possible plays for 7 x 7: 173,663\n",
      "Completed in 11.237 seconds\n",
      "\n",
      "Number of possible plays for 9 x 9: 1,393,114\n",
      "Completed in 84.282 seconds\n",
      "\n",
      "Number of possible plays for 11 x 11: 7,179,629\n",
      "Completed in 430.477 seconds\n",
      "\n"
     ]
    },
    {
     "data": {
      "image/png": "[encoded data removed]",
      "text/plain": [
       "<matplotlib.figure.Figure at 0x116c94050>"
      ]
     },
     "metadata": {},
     "output_type": "display_data"
    }
   ],
   "source": [
    "import time\n",
    "\n",
    "\n",
    "# a decorator utility for timing the function\n",
    "def timed(func):\n",
    "    def wrapper(*args, **kwargs):\n",
    "        start = time.time()\n",
    "        res = func(*args, **kwargs)\n",
    "        runtime = time.time() - start\n",
    "        print(\"Completed in %.3f seconds\\n\" % runtime)\n",
    "        return res, runtime\n",
    "    return wrapper\n",
    "\n",
    "\n",
    "@timed\n",
    "def get_n_possible_plays(w, h):\n",
    "    \"\"\"Compute the number of possible plays given the number\n",
    "    of vertices in the matrix.\n",
    "    \n",
    "    Parameters\n",
    "    ----------\n",
    "    w : int\n",
    "        The number of vertices on the X (horizonal) axis.\n",
    "        \n",
    "    h : int\n",
    "        The number of vertices on the Y (vertical) axis.\n",
    "    \"\"\"\n",
    "    # first, generate a list of all possible coordinates\n",
    "    coordinates = [(i, j) for i in range(h) for j in range(w)]\n",
    "    \n",
    "    # make a generator (not evaluated yet) of all the plays so we can\n",
    "    # evaluate everything in one pass of n choose k\n",
    "    plays = (Play(*args) for args in combinations(coordinates, 4))\n",
    "\n",
    "    # See how many there are...\n",
    "    valid_unique = [play for play in plays if play.is_valid()]\n",
    "    res = len(valid_unique)\n",
    "    print((\"Number of possible plays for %i x %i: {:,}\" % (h, w)).format(res))\n",
    "    return res\n",
    "    \n",
    "# test out our function on some combos:\n",
    "def report_n_possible_plays(combos):\n",
    "    brute_res_runtimes = [get_n_possible_plays(*combo) for combo in combos]\n",
    "\n",
    "    # let's view the runtimes:\n",
    "    s, y = zip(*brute_res_runtimes)  # res, runtime\n",
    "    s = np.log(np.asarray(s))**2\n",
    "    scatter = plt.scatter(x=zip(*combos)[0], y=y, s=s)\n",
    "    plt.title(\"Runtime by dims [size=log(n_valid_plays)^2]\")\n",
    "    plt.xlabel(\"Dim\")\n",
    "    plt.ylabel(\"Run time (seconds)\")\n",
    "    plt.show()\n",
    "    \n",
    "report_n_possible_plays([(3, 3), (5, 5), (7, 7), (9, 9), (11, 11)])"
   ]
  },
  {
   "cell_type": "markdown",
   "metadata": {},
   "source": [
    "With this diagram, you can see the major drawback of our current solution... *it takes __forever__*! And it scales polynomially (at `O(N-choose-4)`, to be specific). This would be unacceptable compute time if we were computing this online or on a phone. So there must be a better way to do it... in the next section, we'll pursue a more algorithmic approach that can compute the appropriate number of unique, valid plays just given `w` and `h`.\n",
    "\n",
    "## Algorithmic approach\n",
    "\n",
    "There are several things we need to consider when developing an algorithmic approach:\n",
    "\n",
    "  1. Create a rule, ${t}$, for the number of line segments/triangles that will be formed in a grid with respect to the `w`, `h` dims.\n",
    "  2. Create a rule, ${p}$, for computing the number of all possible (*unique*) vertex combinations of 4 (equal to n_choose_k(w * h, 4)).\n",
    "  3. The answer should be: $$p(w, h) - t(w, h)$$"
   ]
  },
  {
   "cell_type": "code",
   "execution_count": 288,
   "metadata": {
    "collapsed": false
   },
   "outputs": [
    {
     "data": {
      "text/plain": [
       "2888"
      ]
     },
     "execution_count": 288,
     "metadata": {},
     "output_type": "execute_result"
    }
   ],
   "source": [
    "def t(w, h):\n",
    "    \"\"\"Compute the number of expected line segments/triangles that will\n",
    "    be formed in a grid of dimensions `w * h`.\n",
    "    \n",
    "    Parameters\n",
    "    ----------\n",
    "    w : int\n",
    "        The number of vertices on the X (horizonal) axis.\n",
    "        \n",
    "    h : int\n",
    "        The number of vertices on the Y (vertical) axis.\n",
    "    \"\"\"\n",
    "    # if any of the dims are 1, the answer is 0. We will raise to make sure user knows their mistake...\n",
    "    if any(v == 0 for v in (w, h)):\n",
    "        raise ValueError('Not valid in any dimension == 1')\n",
    "    \n",
    "    # the number of all points on the board\n",
    "    n_points = w * h\n",
    "    \n",
    "    # function to compute the number of illegal plays caused by a new row/col/diag\n",
    "    def _n_segments_for_dim(d):\n",
    "        # for a single dimension, return the number of expected line segments\n",
    "        # and triangles possible (ONLY horizontal / vertical). There are several\n",
    "        # corner cases here...\n",
    "        # 1. d < 3 - impossible to have any segments in this dim\n",
    "        # 2. d < 4 - only possible to have triangles in this dim. (fortunately can\n",
    "        #    handled with the n_choose_k)\n",
    "        if d < 3:\n",
    "            return 0\n",
    "        \n",
    "        # otherwise there are >= 3 in dim d. Multiply * the number of other available\n",
    "        # points on the board with which an illegal play could be made\n",
    "        res = n_choose_k(d, 3) * (n_points - d)\n",
    "        if d > 3:\n",
    "            res += n_choose_k(d, 4)\n",
    "        return res\n",
    "        \n",
    "    # sum up the number of illegal plays on the horizontal and vertical axes\n",
    "    hv_illegal_plays = sum(_n_segments_for_dim(d) * d for d in (w, h))\n",
    "    \n",
    "    # now count up the number of illegal plays for diagonal dimensions. This can be\n",
    "    # a challenge, because we're not guaranteed a square grid. Therefore, we need to\n",
    "    # generate the diagonal dimensions first.\n",
    "    min_dim = min(w, h)  # this will be the max length of all of the diagonal vectors\n",
    "    max_dim = max(w, h)  # length of the max dim, and used for computing n_diagonal vectors\n",
    "    n_diag_vectors = max_dim + (min_dim - 1)\n",
    "    \n",
    "    diag_vectors = []\n",
    "    trail_len = min_dim - 1  # the length on the pyramid downward\n",
    "    for i in range(1, n_diag_vectors + 1):\n",
    "        length = min(i, min_dim)\n",
    "        \n",
    "        # if i > max_dim, it's actually -= 1...\n",
    "        if i > max_dim:\n",
    "            length = trail_len\n",
    "            trail_len -= 1\n",
    "            \n",
    "        diag_vectors.append(length)\n",
    "        \n",
    "    # now compute the number of illegal plays in the diagonals (x2!)\n",
    "    diag_illegal_plays = 2 * sum(_n_segments_for_dim(d) for d in diag_vectors)\n",
    "    res = diag_illegal_plays + hv_illegal_plays\n",
    "        \n",
    "    # There is one final (major) corner case for illegal plays. Unfortunately it's extremely\n",
    "    # difficult to account for/compute given solely (w, h). Consider w=5, h=5, and the points:\n",
    "    # >>> [(0, 1), (2, 2), (4, 3), (x, x)]\n",
    "    # This forms a triangle across diagonals, and in a very difficult-to-compute way (unless we\n",
    "    # were to iterate vertices as we did in the brute force method... this is where things get\n",
    "    # really hard). Note that this only happens when a dimension > 4\n",
    "    if w > 4 or h > 4:\n",
    "        ct = 0\n",
    "        \n",
    "        # this is a naive solution...\n",
    "        \n",
    "        # starting with a gap of 2, create cross-diagonal vectors increasing in slope\n",
    "        # until slope == 1 (equivalent to plain diagonal vector). This cuts compute\n",
    "        # time down a lot. We can multiply by 8 to account for reflection above diagonal,\n",
    "        # horizonal and vertical reflections. This way the original always begins from\n",
    "        # the left and moves right.\n",
    "        for y in range(h):  # move down -> up for origin\n",
    "            for x in range(w):  # move left -> right for origin\n",
    "                \n",
    "                # start with run of 2, rise of 1\n",
    "                for run in range(2, max_dim):\n",
    "                    if 3 * run > max_dim:\n",
    "                        break\n",
    "                    \n",
    "                    # if rise ever == run, then it's a perfect diagonal...\n",
    "                    for rise in range(1, run):\n",
    "                        ct += 1 * (n_points - 3)\n",
    "                        \n",
    "                    # if we can make one of len 4...\n",
    "                    ct += int(4 * run <= max_dim)\n",
    "                \n",
    "        res += ct   \n",
    "    \n",
    "    return res\n",
    "\n",
    "# test -- how many illegal plays can we get in a 3x3? (should be 48)\n",
    "t(5,5)"
   ]
  },
  {
   "cell_type": "code",
   "execution_count": 289,
   "metadata": {
    "collapsed": true
   },
   "outputs": [],
   "source": [
    "def p(w, h):\n",
    "    \"\"\"Compute the number of possible unique vertex sets of 4 \n",
    "    that will be formed in a grid of dimensions `w * h`.\n",
    "    \n",
    "    Parameters\n",
    "    ----------\n",
    "    w : int\n",
    "        The number of vertices on the X (horizonal) axis.\n",
    "        \n",
    "    h : int\n",
    "        The number of vertices on the Y (vertical) axis.\n",
    "    \"\"\"\n",
    "    return n_choose_k(w * h, 4)\n",
    "\n",
    "\n",
    "@timed\n",
    "def n_possible_fast(w, h):\n",
    "    \"\"\"Compute the number of possible unique, legal plays \n",
    "    in a grid of dimensions `w * h`.\n",
    "    \n",
    "    Parameters\n",
    "    ----------\n",
    "    w : int\n",
    "        The number of vertices on the X (horizonal) axis.\n",
    "        \n",
    "    h : int\n",
    "        The number of vertices on the Y (vertical) axis.\n",
    "    \"\"\"\n",
    "    res = p(w, h) - t(w, h)\n",
    "    print((\"(FAST) Number of possible plays for %i x %i: {:,}\" % (h, w)).format(res))\n",
    "    return res"
   ]
  },
  {
   "cell_type": "code",
   "execution_count": 290,
   "metadata": {
    "collapsed": false
   },
   "outputs": [
    {
     "name": "stdout",
     "output_type": "stream",
     "text": [
      "-------------------------------------------\n",
      "Number of possible plays for 2 x 2: 1\n",
      "Completed in 0.001 seconds\n",
      "\n",
      "(FAST) Number of possible plays for 2 x 2: 1\n",
      "Completed in 0.000 seconds\n",
      "\n",
      "-------------------------------------------\n",
      "Number of possible plays for 3 x 3: 78\n",
      "Completed in 0.008 seconds\n",
      "\n",
      "(FAST) Number of possible plays for 3 x 3: 78\n",
      "Completed in 0.000 seconds\n",
      "\n",
      "-------------------------------------------\n",
      "Number of possible plays for 4 x 4: 1,278\n",
      "Completed in 0.087 seconds\n",
      "\n",
      "(FAST) Number of possible plays for 4 x 4: 1,278\n",
      "Completed in 0.000 seconds\n",
      "\n",
      "-------------------------------------------\n",
      "Number of possible plays for 5 x 5: 9,498\n",
      "Completed in 0.595 seconds\n",
      "\n",
      "(FAST) Number of possible plays for 5 x 5: 9,762\n",
      "Completed in 0.000 seconds\n",
      "\n",
      "-------------------------------------------\n",
      "Number of possible plays for 6 x 6: 47,097\n",
      "Completed in 3.044 seconds\n",
      "\n",
      "(FAST) Number of possible plays for 6 x 6: 47,199\n",
      "Completed in 0.000 seconds\n",
      "\n"
     ]
    }
   ],
   "source": [
    "def compare(mx):\n",
    "    for i in range(2, mx + 1):\n",
    "        print('-------------------------------------------')\n",
    "        _ = get_n_possible_plays(i, i)\n",
    "        _ = n_possible_fast(i, i)\n",
    "        \n",
    "compare(6)"
   ]
  },
  {
   "cell_type": "markdown",
   "metadata": {},
   "source": [
    "Now that we are sure our fast method is working and we are confident that it will work in all scenarios, we can compute a much broader array of combinatorics in a much faster manner. Let's replicate the above scenario:"
   ]
  },
  {
   "cell_type": "code",
   "execution_count": 291,
   "metadata": {
    "collapsed": false
   },
   "outputs": [
    {
     "name": "stdout",
     "output_type": "stream",
     "text": [
      "(FAST) Number of possible plays for 3 x 3: 78\n",
      "Completed in 0.000 seconds\n",
      "\n",
      "(FAST) Number of possible plays for 5 x 5: 9,762\n",
      "Completed in 0.000 seconds\n",
      "\n",
      "(FAST) Number of possible plays for 7 x 7: 179,354\n",
      "Completed in 0.000 seconds\n",
      "\n",
      "(FAST) Number of possible plays for 9 x 9: 1,483,425\n",
      "Completed in 0.000 seconds\n",
      "\n",
      "(FAST) Number of possible plays for 11 x 11: 7,858,719\n",
      "Completed in 0.001 seconds\n",
      "\n"
     ]
    },
    {
     "data": {
      "image/png": "[encoded data removed]",
      "text/plain": [
       "<matplotlib.figure.Figure at 0x1475aaa50>"
      ]
     },
     "metadata": {},
     "output_type": "display_data"
    }
   ],
   "source": [
    "# test out our function on some combos:\n",
    "def fast_report_n_possible_plays(combos):\n",
    "    res_runtimes = [n_possible_fast(*combo) for combo in combos]\n",
    "\n",
    "    # let's view the runtimes:\n",
    "    s, y = zip(*res_runtimes)  # res, runtime\n",
    "    s = np.log(np.asarray(s))**2\n",
    "    scatter = plt.scatter(x=zip(*combos)[0], y=y, s=s)\n",
    "    plt.title(\"(FAST) Runtime by dims [size=log(n_valid_plays)^2]\")\n",
    "    plt.xlabel(\"Dim\")\n",
    "    plt.ylabel(\"Run time (seconds)\")\n",
    "    plt.show()\n",
    "    \n",
    "fast_report_n_possible_plays([(3, 3), (5, 5), (7, 7), (9, 9), (11, 11)])"
   ]
  },
  {
   "cell_type": "markdown",
   "metadata": {},
   "source": [
    "Notice the new runtime is nearly constant! We can now compute must larger ranges:"
   ]
  },
  {
   "cell_type": "code",
   "execution_count": 292,
   "metadata": {
    "collapsed": false
   },
   "outputs": [
    {
     "name": "stdout",
     "output_type": "stream",
     "text": [
      "(FAST) Number of possible plays for 15 x 15: 99,185,286\n",
      "Completed in 0.003 seconds\n",
      "\n",
      "(FAST) Number of possible plays for 16 x 16: 167,723,288\n",
      "Completed in 0.003 seconds\n",
      "\n",
      "(FAST) Number of possible plays for 17 x 17: 274,440,265\n",
      "Completed in 0.003 seconds\n",
      "\n",
      "(FAST) Number of possible plays for 18 x 18: 435,718,017\n",
      "Completed in 0.004 seconds\n",
      "\n",
      "(FAST) Number of possible plays for 19 x 19: 675,185,121\n",
      "Completed in 0.003 seconds\n",
      "\n"
     ]
    },
    {
     "data": {
      "image/png": "[encoded data removed]",
      "text/plain": [
       "<matplotlib.figure.Figure at 0x115737590>"
      ]
     },
     "metadata": {},
     "output_type": "display_data"
    }
   ],
   "source": [
    "fast_report_n_possible_plays([(i, i) for i in range(15, 20)])"
   ]
  },
  {
   "cell_type": "markdown",
   "metadata": {},
   "source": [
    "## Final answer\n",
    "\n",
    "The original question was in regards to a 15 X 10 grid. Now that we have a fast solution, we can compute this:"
   ]
  },
  {
   "cell_type": "code",
   "execution_count": 293,
   "metadata": {
    "collapsed": false
   },
   "outputs": [
    {
     "name": "stdout",
     "output_type": "stream",
     "text": [
      "(FAST) Number of possible plays for 10 x 15: 18,602,949\n",
      "Completed in 0.002 seconds\n",
      "\n"
     ]
    }
   ],
   "source": [
    "_ = n_possible_fast(15, 10)"
   ]
  },
  {
   "cell_type": "code",
   "execution_count": null,
   "metadata": {
    "collapsed": true
   },
   "outputs": [],
   "source": []
  }
 ],
 "metadata": {
  "anaconda-cloud": {},
  "kernelspec": {
   "display_name": "Python [Root]",
   "language": "python",
   "name": "Python [Root]"
  },
  "language_info": {
   "codemirror_mode": {
    "name": "ipython",
    "version": 2
   },
   "file_extension": ".py",
   "mimetype": "text/x-python",
   "name": "python",
   "nbconvert_exporter": "python",
   "pygments_lexer": "ipython2",
   "version": "2.7.12"
  }
 },
 "nbformat": 4,
 "nbformat_minor": 0
}
